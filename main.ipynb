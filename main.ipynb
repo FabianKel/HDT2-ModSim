{
 "cells": [
  {
   "cell_type": "markdown",
   "id": "11703c55",
   "metadata": {},
   "source": [
    "# **Hoja de Trabajo #2**\n",
    "\n",
    "- Derek Arreaga - 22537\n",
    "- Mónica Salvatierra - 22249"
   ]
  },
  {
   "cell_type": "markdown",
   "id": "5c09f2ba",
   "metadata": {},
   "source": [
    "## **Ejercicio 1**\n",
    "\n",
    "Responda las siguientes preguntas de forma clara, recuerde argumentar adecuadamente sus respuestas"
   ]
  },
  {
   "cell_type": "markdown",
   "id": "0d7e4b41",
   "metadata": {},
   "source": [
    "1. ¿Cómo cambiarían las ventajas de escalabilidad de los ABM si los atributos de los agentes exhibieran una\n",
    "fuerte interdependencia (por ejemplo, ingresos que modifican en gran medida los riesgos de enfermedades\n",
    "específicas de la edad) en comparación con el supuesto actual de heterogeneidad ortogonal?\n",
    "\n",
    "- Cuando los atributos de los agentes se consideran independientes, el modelo es más sencillo de escalar porque basta con asignar valores distintos a cada característica sin preocuparse por cómo se combinan. Esto facilita generar poblaciones grandes y diversas sin un costo computacional demasiado alto. Sin embargo, si introducimos una fuerte interdependencia por ejemplo, que el nivel de ingresos de un agente determine directamente su riesgo de ciertas enfermedades según su edad, el modelo se vuelve mucho más realista pero también más complejo. En ese caso, la escalabilidad pierde parte de sus ventajas porque hay que calcular y mantener relaciones entre variables que ya no son independientes. Esto implica que aumentar el número de agentes requerirá más capacidad de cómputo y un diseño más cuidadoso para que esas interdependencias se reflejen correctamente en las simulaciones.\n",
    "\n",
    "2. ¿Qué compensaciones surgen al elegir entre transiciones con tiempos de espera (duraciones fijas) versus\n",
    "transiciones basadas en frecuencias (riesgos sin memoria) para modelar la progresión de enfermedades\n",
    "crónicas en los ABM?\n",
    "\n",
    "- El uso de tiempos de espera fijos hace que la simulación sea más predecible y refleje de manera clara que ciertos procesos biológicos tienen una duración aproximada conocida, como el tiempo que tarda una enfermedad en avanzar de una fase a otra. Esto le da realismo en términos de cronología, pero puede volver el modelo demasiado rígido, perdiendo variabilidad individual. En cambio, las transiciones basadas en frecuencias (con riesgos sin memoria) permiten introducir aleatoriedad y heterogeneidad, ya que cada agente tiene una probabilidad constante de progresar sin importar cuánto tiempo haya estado en un estado. Esto aporta flexibilidad y diversidad en los resultados, pero puede ser menos fiel a cómo funcionan muchas enfermedades crónicas, donde la probabilidad de progresión suele aumentar con el tiempo. "
   ]
  },
  {
   "cell_type": "markdown",
   "id": "69b626e9",
   "metadata": {},
   "source": [
    "## **Ejercicio 2**\n",
    "\n",
    "investigue y responda las siguientes preguntas de forma clara. Recuerde citar sus fuentes adecuadamente."
   ]
  },
  {
   "cell_type": "markdown",
   "id": "87cdef49",
   "metadata": {},
   "source": [
    "1. ¿Qué evidencia empírica respalda que el seguimiento del historial a nivel agente (p. ej., infecciones acumuladas) ofrece mejores perspectivas de política pública que los recuentos agregados?\n",
    "    * Los modelos compartimentados agregados se enfocan en **totales poblacionales** y **flujos promedio**, pero ignoran la **heterogeneidad individual** y **trayectorias personales** (como reinfecciones, historial clínico, vacunaciones previas).\n",
    "    * En contraste, los modelos basados en agentes (``ABM``) sí pueden rastrear el historial acumulado de cada individuo y permitir decisiones de intervención más **específicas y adaptadas**, mejorando la identificación de grupos vulnerables o repetidos.\n",
    "    * Esto aumenta la transparencia y aplicabilidad a políticas de salud pública, pues permite evaluar estratégicamente iniquidades o impactos diferenciados entre subgrupos.\n",
    "    * Estudios durante la pandemia de **COVID-19** mostraron que una combinación de modelos compartimentados y ABM mejoró la capacidad de explicación, predicción e intervención, dependiendo del objetivo político .\n",
    "\n",
    "\n",
    "2. ¿Cómo abordan los avances recientes en modelado compositivo (p. ej., gráficos de estados jerárquicos) la “maldición de la dimensionalidad” al representar comorbilidades, frente a enfoques tradicionales stock-flujo?\n",
    "    * El modelado tradicional de stock y flujo enfrenta una explosión combinatoria de compartimentos al intentar representar múltiples comorbilidades (por ejemplo, personas con diabetes y enfermedades hepáticas).\n",
    "    * Los enfoques jerárquicos y compositivos, como los **Hidden Markov Models (HMM) acoplados**, permiten modelar la progresión conjunta de múltiples enfermedades en forma **acoplada y personalizada**, sin generar todos los combinaciones posibles.\n",
    "    * También, técnicas de **reducción de orden** (como clustering de agentes o reducción mediante Proper Orthogonal Decomposition) permiten capturar comportamiento grupal central sin un coste computacional exponencial.\n",
    "    * En medicina, redes de comorbilidad (como los **Phenotypic Disease Networks**) permiten mapear las relaciones entre enfermedades, facilitando representar comorbilidades como grafos, no como compartimentos rígidos.\n",
    "    * Finalmente, las **Redes Neuronales de Grafos (GNN)** han demostrado poder capturar trayectorias temporales y relaciones múltiples entre diagnósticos, produciendo representaciones de bajo dimensionalidad útiles para predecir dinámicas complejas.\n",
    "\n",
    "\n",
    "**Resumen comparativo**\n",
    "\n",
    "| Enfoque tradicional (stock-flujo)                             | Modelado compositivo/avan azado                                                            |\n",
    "| ------------------------------------------------------------- | ------------------------------------------------------------------------------------------ |\n",
    "| Compartimentos crecientes al incluir comorbilidades múltiples | Representación basada en fases, estados latentes o clusters (no combinaciones exhaustivas) |\n",
    "| Alta dimensionalidad difícil de manejar                       | Reducción de orden, grafos y HMM acoplados permiten manejabilidad y realismo               |\n",
    "| Menor precisión individual                                    | Capacidad de capturar heterogeneidad individual con menor coste computacional              |\n"
   ]
  },
  {
   "cell_type": "markdown",
   "id": "0c7df5f6",
   "metadata": {},
   "source": [
    "**Referencias**\n",
    "\n",
    "- Knight, G. M., Dharan, N. J., Fox, G. J., Stennis, N., Zwerling, A., Khurana, R., & Dowdy, D. W. (2015). Bridging the gap between evidence and policy for infectious diseases: How models can aid public health decision-making. International Journal Of Infectious Diseases, 42, 17-23. https://doi.org/10.1016/j.ijid.2015.10.024\n",
    "- Epidemiological models and COVID-19: a comparative view - PubMed. https://pubmed.ncbi.nlm.nih.gov/34432152\n",
    "- The utility of infectious disease modelling in informing policy for outbreak response: a scoping review | medRxiv  https://www.medrxiv.org/content/10.1101/2025.03.04.25323088v1.full\n",
    "- Maag, B., Feuerriegel, S., Kraus, M., Saar-Tsechansky, M., & Züger, T. (2021). Modeling longitudinal dynamics of comorbidities. Arxiv, 2, 222-235. https://doi.org/10.1145/3450439.3451871- Hierarchical clustering and dimensional reduction for optimal control of large-scale agent-based models. https://arxiv.org/abs/2507.19644\n",
    "- Applying precision medicine principles to the management of multimorbidity: the utility of comorbidity networks, graph machine learning, and knowledge graphs - PMC. https://pmc.ncbi.nlm.nih.gov/articles/PMC10885565/"
   ]
  }
 ],
 "metadata": {
  "language_info": {
   "name": "python"
  }
 },
 "nbformat": 4,
 "nbformat_minor": 5
}
