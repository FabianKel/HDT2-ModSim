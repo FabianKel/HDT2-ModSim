{
 "cells": [
  {
   "cell_type": "markdown",
   "id": "11703c55",
   "metadata": {},
   "source": [
    "# **Hoja de Trabajo #2**\n",
    "\n",
    "- Derek Arreaga - 22537\n",
    "- Mónica Salvatierra - 22249"
   ]
  },
  {
   "cell_type": "markdown",
   "id": "5c09f2ba",
   "metadata": {},
   "source": [
    "## **Ejercicio 1**\n",
    "\n",
    "Responda las siguientes preguntas de forma clara, recuerde argumentar adecuadamente sus respuestas"
   ]
  },
  {
   "cell_type": "markdown",
   "id": "0d7e4b41",
   "metadata": {},
   "source": [
    "1. ¿Cómo cambiarían las ventajas de escalabilidad de los ABM si los atributos de los agentes exhibieran una\n",
    "fuerte interdependencia (por ejemplo, ingresos que modifican en gran medida los riesgos de enfermedades\n",
    "específicas de la edad) en comparación con el supuesto actual de heterogeneidad ortogonal?\n",
    "\n",
    "- Cuando los atributos de los agentes se consideran independientes, el modelo es más sencillo de escalar porque basta con asignar valores distintos a cada característica sin preocuparse por cómo se combinan. Esto facilita generar poblaciones grandes y diversas sin un costo computacional demasiado alto. Sin embargo, si introducimos una fuerte interdependencia por ejemplo, que el nivel de ingresos de un agente determine directamente su riesgo de ciertas enfermedades según su edad, el modelo se vuelve mucho más realista pero también más complejo. En ese caso, la escalabilidad pierde parte de sus ventajas porque hay que calcular y mantener relaciones entre variables que ya no son independientes. Esto implica que aumentar el número de agentes requerirá más capacidad de cómputo y un diseño más cuidadoso para que esas interdependencias se reflejen correctamente en las simulaciones.\n",
    "\n",
    "2. ¿Qué compensaciones surgen al elegir entre transiciones con tiempos de espera (duraciones fijas) versus\n",
    "transiciones basadas en frecuencias (riesgos sin memoria) para modelar la progresión de enfermedades\n",
    "crónicas en los ABM?\n",
    "\n",
    "- El uso de tiempos de espera fijos hace que la simulación sea más predecible y refleje de manera clara que ciertos procesos biológicos tienen una duración aproximada conocida, como el tiempo que tarda una enfermedad en avanzar de una fase a otra. Esto le da realismo en términos de cronología, pero puede volver el modelo demasiado rígido, perdiendo variabilidad individual. En cambio, las transiciones basadas en frecuencias (con riesgos sin memoria) permiten introducir aleatoriedad y heterogeneidad, ya que cada agente tiene una probabilidad constante de progresar sin importar cuánto tiempo haya estado en un estado. Esto aporta flexibilidad y diversidad en los resultados, pero puede ser menos fiel a cómo funcionan muchas enfermedades crónicas, donde la probabilidad de progresión suele aumentar con el tiempo. "
   ]
  }
 ],
 "metadata": {
  "language_info": {
   "name": "python"
  }
 },
 "nbformat": 4,
 "nbformat_minor": 5
}
